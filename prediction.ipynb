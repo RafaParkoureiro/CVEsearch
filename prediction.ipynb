{
 "cells": [
  {
   "cell_type": "code",
   "execution_count": 1,
   "metadata": {},
   "outputs": [
    {
     "name": "stderr",
     "output_type": "stream",
     "text": [
      "2024-03-07 09:41:01.223104: I tensorflow/core/platform/cpu_feature_guard.cc:182] This TensorFlow binary is optimized to use available CPU instructions in performance-critical operations.\n",
      "To enable the following instructions: AVX2 AVX512F AVX512_VNNI FMA, in other operations, rebuild TensorFlow with the appropriate compiler flags.\n"
     ]
    }
   ],
   "source": [
    "from sklearn.model_selection import train_test_split\n",
    "from sklearn.feature_extraction.text import TfidfVectorizer\n",
    "from sklearn.metrics import accuracy_score\n",
    "from nltk.corpus import stopwords\n",
    "from nltk.stem import WordNetLemmatizer\n",
    "import pandas as pd\n",
    "import tensorflow as tf\n",
    "from tensorflow.keras.models import Sequential\n",
    "from tensorflow.keras.layers import Dense, Dropout\n",
    "from tensorflow.keras.optimizers import Adam\n",
    "from sklearn.preprocessing import LabelEncoder\n",
    "import numpy as np"
   ]
  },
  {
   "cell_type": "code",
   "execution_count": 15,
   "metadata": {},
   "outputs": [
    {
     "data": {
      "text/html": [
       "<div>\n",
       "<style scoped>\n",
       "    .dataframe tbody tr th:only-of-type {\n",
       "        vertical-align: middle;\n",
       "    }\n",
       "\n",
       "    .dataframe tbody tr th {\n",
       "        vertical-align: top;\n",
       "    }\n",
       "\n",
       "    .dataframe thead th {\n",
       "        text-align: right;\n",
       "    }\n",
       "</style>\n",
       "<table border=\"1\" class=\"dataframe\">\n",
       "  <thead>\n",
       "    <tr style=\"text-align: right;\">\n",
       "      <th></th>\n",
       "      <th>description</th>\n",
       "      <th>score</th>\n",
       "    </tr>\n",
       "  </thead>\n",
       "  <tbody>\n",
       "    <tr>\n",
       "      <th>0</th>\n",
       "      <td>Improper Restriction of Excessive Authenticati...</td>\n",
       "      <td>4</td>\n",
       "    </tr>\n",
       "    <tr>\n",
       "      <th>1</th>\n",
       "      <td>Deserialization of Untrusted Data, Improper In...</td>\n",
       "      <td>9</td>\n",
       "    </tr>\n",
       "    <tr>\n",
       "      <th>2</th>\n",
       "      <td>An issue was discovered in Samsung Mobile Proc...</td>\n",
       "      <td>8</td>\n",
       "    </tr>\n",
       "    <tr>\n",
       "      <th>3</th>\n",
       "      <td>An issue was discovered in Samsung Mobile Proc...</td>\n",
       "      <td>8</td>\n",
       "    </tr>\n",
       "    <tr>\n",
       "      <th>4</th>\n",
       "      <td>Cross Site Scripting vulnerability in timetec ...</td>\n",
       "      <td>5</td>\n",
       "    </tr>\n",
       "    <tr>\n",
       "      <th>...</th>\n",
       "      <td>...</td>\n",
       "      <td>...</td>\n",
       "    </tr>\n",
       "    <tr>\n",
       "      <th>10638</th>\n",
       "      <td>confirmed</td>\n",
       "      <td>9</td>\n",
       "    </tr>\n",
       "    <tr>\n",
       "      <th>10639</th>\n",
       "      <td>Chat functionality in Schoolbox application be...</td>\n",
       "      <td>9</td>\n",
       "    </tr>\n",
       "    <tr>\n",
       "      <th>10640</th>\n",
       "      <td>News functionality in Schoolbox application be...</td>\n",
       "      <td>7</td>\n",
       "    </tr>\n",
       "    <tr>\n",
       "      <th>10641</th>\n",
       "      <td>Class functionality in Schoolbox application \\...</td>\n",
       "      <td>7</td>\n",
       "    </tr>\n",
       "    <tr>\n",
       "      <th>10642</th>\n",
       "      <td>Calendar functionality in Schoolbox applicatio...</td>\n",
       "      <td>7</td>\n",
       "    </tr>\n",
       "  </tbody>\n",
       "</table>\n",
       "<p>10643 rows × 2 columns</p>\n",
       "</div>"
      ],
      "text/plain": [
       "                                             description  score\n",
       "0      Improper Restriction of Excessive Authenticati...      4\n",
       "1      Deserialization of Untrusted Data, Improper In...      9\n",
       "2      An issue was discovered in Samsung Mobile Proc...      8\n",
       "3      An issue was discovered in Samsung Mobile Proc...      8\n",
       "4      Cross Site Scripting vulnerability in timetec ...      5\n",
       "...                                                  ...    ...\n",
       "10638                                          confirmed      9\n",
       "10639  Chat functionality in Schoolbox application be...      9\n",
       "10640  News functionality in Schoolbox application be...      7\n",
       "10641  Class functionality in Schoolbox application \\...      7\n",
       "10642  Calendar functionality in Schoolbox applicatio...      7\n",
       "\n",
       "[10643 rows x 2 columns]"
      ]
     },
     "execution_count": 15,
     "metadata": {},
     "output_type": "execute_result"
    }
   ],
   "source": [
    "# Load dataset\n",
    "data = pd.read_csv('sample.csv')\n",
    "data = data[['description','score']]\n",
    "data['score'] = data['score'].apply(lambda x: x[8:11])\n",
    "\n",
    "# Clean the 'score' column by removing non-numeric values\n",
    "data['score'] = data['score'].apply(lambda x: x if x.replace('.', '', 1).isdigit() else None)\n",
    "\n",
    "# Convert 'score' column to float, handling errors\n",
    "data['score'] = pd.to_numeric(data['score'], errors='coerce')\n",
    "\n",
    "# Round 'score' column to integers\n",
    "data['score'] = data['score'].round().astype('Int64')\n",
    "\n",
    "\n",
    "data"
   ]
  },
  {
   "cell_type": "code",
   "execution_count": 16,
   "metadata": {},
   "outputs": [],
   "source": [
    "import nltk\n",
    "from nltk.corpus import stopwords\n",
    "from nltk.tokenize import word_tokenize\n",
    "import string\n",
    "\n",
    "# Initialize an empty list to store preprocessed tokens\n",
    "preprocessed_tokens = []\n",
    "\n",
    "# Iterate through each description in the DataFrame\n",
    "for i in range(len(data)):\n",
    "    text = data['description'][i]\n",
    "    # Input text with extra whitespace\n",
    "\n",
    "    # Step 1: Remove leading and trailing white space and replace multiple consecutive white space characters with a single space\n",
    "    text = \" \".join(text.split())\n",
    "\n",
    "    # Step 2: Tokenize the text\n",
    "    tokens = word_tokenize(text)\n",
    "\n",
    "    # Step 3: Lowercase the tokens\n",
    "    lowercased_tokens = [token.lower() for token in tokens]\n",
    "\n",
    "    # Step 4: Remove punctuation\n",
    "    tokens_without_punctuation = [token for token in lowercased_tokens if token not in string.punctuation]\n",
    "\n",
    "    # Step 5: Remove stopwords\n",
    "    stop_words = set(stopwords.words(\"english\"))\n",
    "    filtered_tokens = [token for token in tokens_without_punctuation if token not in stop_words]\n",
    "\n",
    "    # Append the list of preprocessed tokens to the initialized empty list\n",
    "    preprocessed_tokens.append(filtered_tokens)\n",
    "\n",
    "# Assign the list of preprocessed tokens to the new column 'descriptiontoken' in the DataFrame\n",
    "data['descriptiontoken'] = preprocessed_tokens\n"
   ]
  },
  {
   "cell_type": "code",
   "execution_count": 17,
   "metadata": {},
   "outputs": [
    {
     "data": {
      "text/html": [
       "<div>\n",
       "<style scoped>\n",
       "    .dataframe tbody tr th:only-of-type {\n",
       "        vertical-align: middle;\n",
       "    }\n",
       "\n",
       "    .dataframe tbody tr th {\n",
       "        vertical-align: top;\n",
       "    }\n",
       "\n",
       "    .dataframe thead th {\n",
       "        text-align: right;\n",
       "    }\n",
       "</style>\n",
       "<table border=\"1\" class=\"dataframe\">\n",
       "  <thead>\n",
       "    <tr style=\"text-align: right;\">\n",
       "      <th></th>\n",
       "      <th>description</th>\n",
       "      <th>score</th>\n",
       "      <th>descriptiontoken</th>\n",
       "    </tr>\n",
       "  </thead>\n",
       "  <tbody>\n",
       "    <tr>\n",
       "      <th>0</th>\n",
       "      <td>Improper Restriction of Excessive Authenticati...</td>\n",
       "      <td>4</td>\n",
       "      <td>[improper, restriction, excessive, authenticat...</td>\n",
       "    </tr>\n",
       "    <tr>\n",
       "      <th>1</th>\n",
       "      <td>Deserialization of Untrusted Data, Improper In...</td>\n",
       "      <td>9</td>\n",
       "      <td>[deserialization, untrusted, data, improper, i...</td>\n",
       "    </tr>\n",
       "    <tr>\n",
       "      <th>2</th>\n",
       "      <td>An issue was discovered in Samsung Mobile Proc...</td>\n",
       "      <td>8</td>\n",
       "      <td>[issue, discovered, samsung, mobile, processor...</td>\n",
       "    </tr>\n",
       "    <tr>\n",
       "      <th>3</th>\n",
       "      <td>An issue was discovered in Samsung Mobile Proc...</td>\n",
       "      <td>8</td>\n",
       "      <td>[issue, discovered, samsung, mobile, processor...</td>\n",
       "    </tr>\n",
       "    <tr>\n",
       "      <th>4</th>\n",
       "      <td>Cross Site Scripting vulnerability in timetec ...</td>\n",
       "      <td>5</td>\n",
       "      <td>[cross, site, scripting, vulnerability, timete...</td>\n",
       "    </tr>\n",
       "    <tr>\n",
       "      <th>...</th>\n",
       "      <td>...</td>\n",
       "      <td>...</td>\n",
       "      <td>...</td>\n",
       "    </tr>\n",
       "    <tr>\n",
       "      <th>10638</th>\n",
       "      <td>confirmed</td>\n",
       "      <td>9</td>\n",
       "      <td>[confirmed]</td>\n",
       "    </tr>\n",
       "    <tr>\n",
       "      <th>10639</th>\n",
       "      <td>Chat functionality in Schoolbox application be...</td>\n",
       "      <td>9</td>\n",
       "      <td>[chat, functionality, schoolbox, application, ...</td>\n",
       "    </tr>\n",
       "    <tr>\n",
       "      <th>10640</th>\n",
       "      <td>News functionality in Schoolbox application be...</td>\n",
       "      <td>7</td>\n",
       "      <td>[news, functionality, schoolbox, application, ...</td>\n",
       "    </tr>\n",
       "    <tr>\n",
       "      <th>10641</th>\n",
       "      <td>Class functionality in Schoolbox application \\...</td>\n",
       "      <td>7</td>\n",
       "      <td>[class, functionality, schoolbox, application,...</td>\n",
       "    </tr>\n",
       "    <tr>\n",
       "      <th>10642</th>\n",
       "      <td>Calendar functionality in Schoolbox applicatio...</td>\n",
       "      <td>7</td>\n",
       "      <td>[calendar, functionality, schoolbox, applicati...</td>\n",
       "    </tr>\n",
       "  </tbody>\n",
       "</table>\n",
       "<p>10643 rows × 3 columns</p>\n",
       "</div>"
      ],
      "text/plain": [
       "                                             description  score  \\\n",
       "0      Improper Restriction of Excessive Authenticati...      4   \n",
       "1      Deserialization of Untrusted Data, Improper In...      9   \n",
       "2      An issue was discovered in Samsung Mobile Proc...      8   \n",
       "3      An issue was discovered in Samsung Mobile Proc...      8   \n",
       "4      Cross Site Scripting vulnerability in timetec ...      5   \n",
       "...                                                  ...    ...   \n",
       "10638                                          confirmed      9   \n",
       "10639  Chat functionality in Schoolbox application be...      9   \n",
       "10640  News functionality in Schoolbox application be...      7   \n",
       "10641  Class functionality in Schoolbox application \\...      7   \n",
       "10642  Calendar functionality in Schoolbox applicatio...      7   \n",
       "\n",
       "                                        descriptiontoken  \n",
       "0      [improper, restriction, excessive, authenticat...  \n",
       "1      [deserialization, untrusted, data, improper, i...  \n",
       "2      [issue, discovered, samsung, mobile, processor...  \n",
       "3      [issue, discovered, samsung, mobile, processor...  \n",
       "4      [cross, site, scripting, vulnerability, timete...  \n",
       "...                                                  ...  \n",
       "10638                                        [confirmed]  \n",
       "10639  [chat, functionality, schoolbox, application, ...  \n",
       "10640  [news, functionality, schoolbox, application, ...  \n",
       "10641  [class, functionality, schoolbox, application,...  \n",
       "10642  [calendar, functionality, schoolbox, applicati...  \n",
       "\n",
       "[10643 rows x 3 columns]"
      ]
     },
     "execution_count": 17,
     "metadata": {},
     "output_type": "execute_result"
    }
   ],
   "source": [
    "data"
   ]
  },
  {
   "cell_type": "code",
   "execution_count": 28,
   "metadata": {},
   "outputs": [],
   "source": [
    "# Feature Extraction\n",
    "data.dropna(subset=['score'], inplace=True)\n",
    "vectorizer = TfidfVectorizer()\n",
    "X = vectorizer.fit_transform(data['description'])\n",
    "y = data['score']\n",
    "\n",
    "# Splitting the data\n",
    "X_train, X_test, y_train, y_test = train_test_split(X, y, test_size=0.2, random_state=42)\n",
    "\n",
    "# Convert sparse matrix to NumPy array\n",
    "X_train = X_train.toarray()\n",
    "\n",
    "# Convert labels to numerical format\n",
    "label_encoder = LabelEncoder()\n",
    "y_train = label_encoder.fit_transform(y_train)\n",
    "y_test = label_encoder.transform(y_test)"
   ]
  },
  {
   "cell_type": "code",
   "execution_count": 29,
   "metadata": {},
   "outputs": [
    {
     "data": {
      "text/plain": [
       "<9287x18260 sparse matrix of type '<class 'numpy.float64'>'\n",
       "\twith 325578 stored elements in Compressed Sparse Row format>"
      ]
     },
     "execution_count": 29,
     "metadata": {},
     "output_type": "execute_result"
    }
   ],
   "source": [
    "X"
   ]
  },
  {
   "cell_type": "code",
   "execution_count": 31,
   "metadata": {},
   "outputs": [
    {
     "name": "stdout",
     "output_type": "stream",
     "text": [
      "Accuracy: 0.5613562970936491\n"
     ]
    },
    {
     "name": "stderr",
     "output_type": "stream",
     "text": [
      "/Library/Frameworks/Python.framework/Versions/3.10/lib/python3.10/site-packages/sklearn/linear_model/_logistic.py:814: ConvergenceWarning: lbfgs failed to converge (status=1):\n",
      "STOP: TOTAL NO. of ITERATIONS REACHED LIMIT.\n",
      "\n",
      "Increase the number of iterations (max_iter) or scale the data as shown in:\n",
      "    https://scikit-learn.org/stable/modules/preprocessing.html\n",
      "Please also refer to the documentation for alternative solver options:\n",
      "    https://scikit-learn.org/stable/modules/linear_model.html#logistic-regression\n",
      "  n_iter_i = _check_optimize_result(\n"
     ]
    }
   ],
   "source": [
    "from sklearn.linear_model import LogisticRegression\n",
    "from sklearn.metrics import accuracy_score\n",
    "\n",
    "# Instantiate the logistic regression model\n",
    "model = LogisticRegression()\n",
    "\n",
    "# Train the model\n",
    "model.fit(X_train, y_train)\n",
    "\n",
    "# Make predictions on the testing set\n",
    "y_pred = model.predict(X_test)\n",
    "\n",
    "# Evaluate the model\n",
    "accuracy = accuracy_score(y_test, y_pred)\n",
    "print(\"Accuracy:\", accuracy)"
   ]
  },
  {
   "cell_type": "code",
   "execution_count": 35,
   "metadata": {},
   "outputs": [
    {
     "data": {
      "text/plain": [
       "['modelo.pkl']"
      ]
     },
     "execution_count": 35,
     "metadata": {},
     "output_type": "execute_result"
    }
   ],
   "source": [
    "import joblib\n",
    "\n",
    "# Load the saved model from the file\n",
    "joblib.dump(model, 'modelo.pkl')"
   ]
  },
  {
   "cell_type": "code",
   "execution_count": null,
   "metadata": {},
   "outputs": [],
   "source": []
  }
 ],
 "metadata": {
  "kernelspec": {
   "display_name": "Python 3 (ipykernel)",
   "language": "python",
   "name": "python3"
  },
  "language_info": {
   "codemirror_mode": {
    "name": "ipython",
    "version": 3
   },
   "file_extension": ".py",
   "mimetype": "text/x-python",
   "name": "python",
   "nbconvert_exporter": "python",
   "pygments_lexer": "ipython3",
   "version": "3.10.2"
  }
 },
 "nbformat": 4,
 "nbformat_minor": 2
}
